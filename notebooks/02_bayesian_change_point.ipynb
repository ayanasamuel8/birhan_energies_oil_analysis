{
 "cells": [
  {
   "cell_type": "code",
   "execution_count": 1,
   "id": "92f2b6ee",
   "metadata": {},
   "outputs": [],
   "source": [
    "import sys\n",
    "sys.path.append('..')"
   ]
  },
  {
   "cell_type": "code",
   "execution_count": 2,
   "id": "695388cf",
   "metadata": {},
   "outputs": [],
   "source": [
    "from src.utils import load_data"
   ]
  },
  {
   "cell_type": "code",
   "execution_count": 3,
   "id": "5e9bf7c4",
   "metadata": {},
   "outputs": [
    {
     "data": {
      "text/html": [
       "<div>\n",
       "<style scoped>\n",
       "    .dataframe tbody tr th:only-of-type {\n",
       "        vertical-align: middle;\n",
       "    }\n",
       "\n",
       "    .dataframe tbody tr th {\n",
       "        vertical-align: top;\n",
       "    }\n",
       "\n",
       "    .dataframe thead th {\n",
       "        text-align: right;\n",
       "    }\n",
       "</style>\n",
       "<table border=\"1\" class=\"dataframe\">\n",
       "  <thead>\n",
       "    <tr style=\"text-align: right;\">\n",
       "      <th></th>\n",
       "      <th>Date</th>\n",
       "      <th>Price</th>\n",
       "      <th>Log_Return</th>\n",
       "    </tr>\n",
       "  </thead>\n",
       "  <tbody>\n",
       "    <tr>\n",
       "      <th>0</th>\n",
       "      <td>1987-05-20</td>\n",
       "      <td>18.63</td>\n",
       "      <td>NaN</td>\n",
       "    </tr>\n",
       "    <tr>\n",
       "      <th>1</th>\n",
       "      <td>1987-05-21</td>\n",
       "      <td>18.45</td>\n",
       "      <td>-0.009709</td>\n",
       "    </tr>\n",
       "    <tr>\n",
       "      <th>2</th>\n",
       "      <td>1987-05-22</td>\n",
       "      <td>18.55</td>\n",
       "      <td>0.005405</td>\n",
       "    </tr>\n",
       "    <tr>\n",
       "      <th>3</th>\n",
       "      <td>1987-05-25</td>\n",
       "      <td>18.60</td>\n",
       "      <td>0.002692</td>\n",
       "    </tr>\n",
       "    <tr>\n",
       "      <th>4</th>\n",
       "      <td>1987-05-26</td>\n",
       "      <td>18.63</td>\n",
       "      <td>0.001612</td>\n",
       "    </tr>\n",
       "  </tbody>\n",
       "</table>\n",
       "</div>"
      ],
      "text/plain": [
       "         Date  Price  Log_Return\n",
       "0  1987-05-20  18.63         NaN\n",
       "1  1987-05-21  18.45   -0.009709\n",
       "2  1987-05-22  18.55    0.005405\n",
       "3  1987-05-25  18.60    0.002692\n",
       "4  1987-05-26  18.63    0.001612"
      ]
     },
     "execution_count": 3,
     "metadata": {},
     "output_type": "execute_result"
    }
   ],
   "source": [
    "df = load_data('../data/01_processed/BrentOilPrices_Cleaned.csv')\n",
    "df.head()"
   ]
  },
  {
   "cell_type": "code",
   "execution_count": 4,
   "id": "8f7f63d0",
   "metadata": {},
   "outputs": [
    {
     "data": {
      "text/html": [
       "<div>\n",
       "<style scoped>\n",
       "    .dataframe tbody tr th:only-of-type {\n",
       "        vertical-align: middle;\n",
       "    }\n",
       "\n",
       "    .dataframe tbody tr th {\n",
       "        vertical-align: top;\n",
       "    }\n",
       "\n",
       "    .dataframe thead th {\n",
       "        text-align: right;\n",
       "    }\n",
       "</style>\n",
       "<table border=\"1\" class=\"dataframe\">\n",
       "  <thead>\n",
       "    <tr style=\"text-align: right;\">\n",
       "      <th></th>\n",
       "      <th>Price</th>\n",
       "      <th>Log_Return</th>\n",
       "    </tr>\n",
       "    <tr>\n",
       "      <th>Date</th>\n",
       "      <th></th>\n",
       "      <th></th>\n",
       "    </tr>\n",
       "  </thead>\n",
       "  <tbody>\n",
       "    <tr>\n",
       "      <th>1987-05-20</th>\n",
       "      <td>18.63</td>\n",
       "      <td>NaN</td>\n",
       "    </tr>\n",
       "    <tr>\n",
       "      <th>1987-05-21</th>\n",
       "      <td>18.45</td>\n",
       "      <td>-0.009709</td>\n",
       "    </tr>\n",
       "    <tr>\n",
       "      <th>1987-05-22</th>\n",
       "      <td>18.55</td>\n",
       "      <td>0.005405</td>\n",
       "    </tr>\n",
       "    <tr>\n",
       "      <th>1987-05-25</th>\n",
       "      <td>18.60</td>\n",
       "      <td>0.002692</td>\n",
       "    </tr>\n",
       "    <tr>\n",
       "      <th>1987-05-26</th>\n",
       "      <td>18.63</td>\n",
       "      <td>0.001612</td>\n",
       "    </tr>\n",
       "  </tbody>\n",
       "</table>\n",
       "</div>"
      ],
      "text/plain": [
       "            Price  Log_Return\n",
       "Date                         \n",
       "1987-05-20  18.63         NaN\n",
       "1987-05-21  18.45   -0.009709\n",
       "1987-05-22  18.55    0.005405\n",
       "1987-05-25  18.60    0.002692\n",
       "1987-05-26  18.63    0.001612"
      ]
     },
     "execution_count": 4,
     "metadata": {},
     "output_type": "execute_result"
    }
   ],
   "source": [
    "df = df.set_index('Date').sort_index()\n",
    "df.head()"
   ]
  },
  {
   "cell_type": "code",
   "execution_count": 6,
   "id": "8d00f90a",
   "metadata": {},
   "outputs": [
    {
     "name": "stderr",
     "output_type": "stream",
     "text": [
      "WARNING (pytensor.configdefaults): g++ not available, if using conda: `conda install gxx`\n",
      "WARNING (pytensor.configdefaults): g++ not detected!  PyTensor will be unable to compile C-implementations and will default to Python. Performance may be severely degraded. To remove this warning, set PyTensor flags cxx to an empty string.\n"
     ]
    },
    {
     "name": "stdout",
     "output_type": "stream",
     "text": [
      "--- Analyzing data for 1519 days from 2005-01-01 to 2010-12-31 ---\n"
     ]
    },
    {
     "data": {
      "image/png": "[encoded data removed]",
      "text/plain": [
       "<Figure size 1400x500 with 1 Axes>"
      ]
     },
     "metadata": {},
     "output_type": "display_data"
    }
   ],
   "source": [
    "import pymc as pm\n",
    "import arviz as az\n",
    "\n",
    "# --- Visualization Libraries ---\n",
    "import matplotlib.pyplot as plt\n",
    "import seaborn as sns\n",
    "\n",
    "# --- Isolate the Period for Analysis ---\n",
    "start_date = '2005-01-01'\n",
    "end_date = '2010-12-31'\n",
    "df_subset = df.loc[start_date:end_date]\n",
    "\n",
    "# Extract the log returns for modeling (and drop the initial NaN)\n",
    "log_returns = df_subset['Log_Return'].dropna()\n",
    "dates = log_returns.index\n",
    "\n",
    "print(f\"--- Analyzing data for {len(log_returns)} days from {start_date} to {end_date} ---\")\n",
    "\n",
    "# Plot the log returns for this specific period to see what we're modeling\n",
    "plt.figure(figsize=(14, 5))\n",
    "plt.plot(dates, log_returns, 'o', markersize=2, color='orangered', alpha=0.6)\n",
    "plt.title('Daily Log Returns (2005-2010)', fontsize=16)\n",
    "plt.xlabel('Date')\n",
    "plt.ylabel('Log Return')\n",
    "plt.show()"
   ]
  },
  {
   "cell_type": "code",
   "execution_count": null,
   "id": "f3346bb2",
   "metadata": {},
   "outputs": [
    {
     "name": "stderr",
     "output_type": "stream",
     "text": [
      "Sequential sampling (2 chains in 1 job)\n",
      "CompoundStep\n",
      ">Metropolis: [tau]\n",
      ">NUTS: [sigma_1, sigma_2]\n"
     ]
    },
    {
     "data": {
      "application/vnd.jupyter.widget-view+json": {
       "model_id": "21634840a9c345639cd17d1eb4ccf41d",
       "version_major": 2,
       "version_minor": 0
      },
      "text/plain": [
       "Output()"
      ]
     },
     "metadata": {},
     "output_type": "display_data"
    },
    {
     "data": {
      "text/html": [
       "<pre style=\"white-space:pre;overflow-x:auto;line-height:normal;font-family:Menlo,'DejaVu Sans Mono',consolas,'Courier New',monospace\">c:\\Users\\user\\Documents\\Datasience\\birhan_energies_oil_analysis\\venv\\Lib\\site-packages\\pytensor\\scalar\\basic.py:195\n",
       "2: RuntimeWarning: overflow encountered in cast\n",
       "  return sum(inputs)\n",
       "</pre>\n"
      ],
      "text/plain": [
       "c:\\Users\\user\\Documents\\Datasience\\birhan_energies_oil_analysis\\venv\\Lib\\site-packages\\pytensor\\scalar\\basic.py:195\n",
       "2: RuntimeWarning: overflow encountered in cast\n",
       "  return sum(inputs)\n"
      ]
     },
     "metadata": {},
     "output_type": "display_data"
    }
   ],
   "source": [
    "import numpy as np\n",
    "# Get the number of data points for our model\n",
    "n_days = len(log_returns)\n",
    "\n",
    "# Define the Bayesian Change Point model using a PyMC context\n",
    "with pm.Model() as volatility_model:\n",
    "    # 1. Define the Prior for the switch point (tau)\n",
    "    # This is the unknown day where the volatility changes.\n",
    "    # We assume it could be any day with equal probability.\n",
    "    tau = pm.DiscreteUniform(\"tau\", lower=1, upper=n_days - 1)\n",
    "\n",
    "    # 2. Define Priors for the \"before\" and \"after\" volatilities (sigma)\n",
    "    # Volatility must be a positive value. An Exponential distribution is a good choice.\n",
    "    sigma_1 = pm.Exponential(\"sigma_1\", 1.0)\n",
    "    sigma_2 = pm.Exponential(\"sigma_2\", 1.0)\n",
    "\n",
    "    # 3. Use a switch function to select the correct volatility\n",
    "    # If the current day index is before tau, use sigma_1.\n",
    "    # If it's on or after tau, use sigma_2.\n",
    "    day_idx = np.arange(n_days)\n",
    "    current_sigma = pm.math.switch(tau > day_idx, sigma_1, sigma_2)\n",
    "\n",
    "    # 4. Define the Likelihood\n",
    "    # This connects the model to our actual data.\n",
    "    # We assume the log returns are normally distributed around a mean of 0,\n",
    "    # with the volatility determined by our 'current_sigma'.\n",
    "    returns = pm.Normal(\"returns\", mu=0, sigma=current_sigma, observed=log_returns)\n",
    "\n",
    "    # 5. Run the Sampler (MCMC)\n",
    "    # This is the computational engine that finds the posterior distributions.\n",
    "    trace = pm.sample(draws=2000, tune=1000, cores=1)\n",
    "\n",
    "print(\"\\n--- MCMC Sampling Complete ---\")"
   ]
  },
  {
   "cell_type": "code",
   "execution_count": null,
   "id": "b296e434",
   "metadata": {},
   "outputs": [],
   "source": [
    "# --- 1. Check for Convergence ---\n",
    "# The summary table gives us key statistics. We are looking for 'r_hat' values close to 1.0.\n",
    "# An r_hat of 1.0 indicates that the different simulation chains have converged to the same result.\n",
    "summary = az.summary(trace, var_names=['tau', 'sigma_1', 'sigma_2'])\n",
    "print(\"--- Model Summary ---\")\n",
    "print(summary)\n",
    "\n",
    "# --- 2. Identify the Change Point ---\n",
    "# Plot the posterior distribution of 'tau'. A sharp peak tells us the model is\n",
    "# very certain about WHEN the change occurred.\n",
    "az.plot_posterior(trace, var_names=['tau'], hdi_prob=0.95)\n",
    "plt.suptitle('Posterior Distribution of Change Point (tau)', y=1.02)\n",
    "plt.show()\n",
    "\n",
    "# --- 3. Quantify the Impact ---\n",
    "# Plot the posterior distributions for the \"before\" and \"after\" volatilities.\n",
    "# This allows us to see how much the volatility changed.\n",
    "az.plot_posterior(trace, var_names=['sigma_1', 'sigma_2'], hdi_prob=0.95)\n",
    "plt.suptitle('Posterior Distributions of Volatility Parameters', y=1.02)\n",
    "plt.show()\n",
    "\n",
    "# --- 4. Calculate Probabilistic Impact ---\n",
    "# We can calculate the probability that volatility was higher after the change point.\n",
    "posterior_samples = trace.posterior\n",
    "prob_increase = (posterior_samples['sigma_2'] > posterior_samples['sigma_1']).mean().item()\n",
    "print(f\"\\nProbability that volatility increased after the change point: {prob_increase:.2%}\")"
   ]
  }
 ],
 "metadata": {
  "kernelspec": {
   "display_name": "venv",
   "language": "python",
   "name": "python3"
  },
  "language_info": {
   "codemirror_mode": {
    "name": "ipython",
    "version": 3
   },
   "file_extension": ".py",
   "mimetype": "text/x-python",
   "name": "python",
   "nbconvert_exporter": "python",
   "pygments_lexer": "ipython3",
   "version": "3.13.5"
  }
 },
 "nbformat": 4,
 "nbformat_minor": 5
}
